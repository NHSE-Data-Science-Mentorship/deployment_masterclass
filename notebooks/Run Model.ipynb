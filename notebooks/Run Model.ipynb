{
 "cells": [
  {
   "cell_type": "code",
   "execution_count": 1,
   "id": "ec5d2616",
   "metadata": {},
   "outputs": [],
   "source": [
    "from case_regression_example.loader import load_latest_data\n",
    "from case_regression_example.cleaning import prepare_data, train_test_split\n",
    "from case_regression_example.model import fit_model, assess_model_performance"
   ]
  },
  {
   "cell_type": "markdown",
   "id": "cbddb2ff",
   "metadata": {},
   "source": [
    "# Train a simple model"
   ]
  },
  {
   "cell_type": "code",
   "execution_count": null,
   "id": "0aab070a",
   "metadata": {},
   "outputs": [],
   "source": [
    "# Load the data\n",
    "df = load_latest_data()\n",
    "\n",
    "# Build our features\n",
    "df_features, feature_cols, target_col = prepare_data(df)\n",
    "X_train, X_test, y_train, y_test = train_test_split(\n",
    "    df_features, feature_cols, target_col\n",
    ")\n",
    "\n",
    "# Train and assess our model\n",
    "model = fit_model(X_train, y_train)\n",
    "assess_model_performance(model, X_test, y_test)"
   ]
  },
  {
   "cell_type": "markdown",
   "id": "f3e655f9",
   "metadata": {},
   "source": [
    "## Plot results for inspection"
   ]
  },
  {
   "cell_type": "code",
   "execution_count": null,
   "id": "0f46c7da",
   "metadata": {},
   "outputs": [],
   "source": [
    "import matplotlib.pyplot as plt\n",
    "fig, ax = plt.subplots(figsize=(12, 8))\n",
    "plt.plot(y_test, model.predict(X_test), '.')\n",
    "ax.set_xlabel('True cases')\n",
    "ax.set_ylabel('Predicted cases')"
   ]
  },
  {
   "cell_type": "code",
   "execution_count": null,
   "id": "0b7b7ef4",
   "metadata": {},
   "outputs": [],
   "source": []
  }
 ],
 "metadata": {
  "kernelspec": {
   "display_name": "Python 3",
   "language": "python",
   "name": "python3"
  },
  "language_info": {
   "codemirror_mode": {
    "name": "ipython",
    "version": 3
   },
   "file_extension": ".py",
   "mimetype": "text/x-python",
   "name": "python",
   "nbconvert_exporter": "python",
   "pygments_lexer": "ipython3",
   "version": "3.8.2"
  }
 },
 "nbformat": 4,
 "nbformat_minor": 5
}
